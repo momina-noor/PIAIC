{
 "cells": [
  {
   "cell_type": "code",
   "execution_count": 6,
   "metadata": {
    "collapsed": false
   },
   "outputs": [
    {
     "name": "stdout",
     "output_type": "stream",
     "text": [
      "Enter number to check if it's positive or negative: 56\n",
      "Positive\n"
     ]
    }
   ],
   "source": [
    "#Q1\n",
    "x= input(\"Enter number to check if it's positive or negative: \")\n",
    "if (x<0):\n",
    "    print(\"Negative\")\n",
    "else:\n",
    "    print(\"Positive\")"
   ]
  },
  {
   "cell_type": "code",
   "execution_count": 7,
   "metadata": {
    "collapsed": false
   },
   "outputs": [
    {
     "name": "stdout",
     "output_type": "stream",
     "text": [
      "Enter marks of Subject 1: 45\n",
      "Enter marks of Subject 2: 67\n",
      "Enter marks of Subject 3: 78\n",
      "Enter marks of Subject 4: 89\n",
      "Enter marks of Subject 5: 34\n",
      "D\n"
     ]
    }
   ],
   "source": [
    "#Q2\n",
    "x1 = input(\"Enter marks of Subject 1: \")\n",
    "x2 = input(\"Enter marks of Subject 2: \")\n",
    "x3 = input(\"Enter marks of Subject 3: \")\n",
    "x4 = input(\"Enter marks of Subject 4: \")\n",
    "x5 = input(\"Enter marks of Subject 5: \")\n",
    "avg = (x1+x2+x3+x4+x5)/5\n",
    "if (avg>90):\n",
    "    print(\"A\")\n",
    "elif (avg>80):\n",
    "    print(\"B\")\n",
    "elif (avg>70):\n",
    "    print(\"C\")\n",
    "elif (avg>60):\n",
    "    print(\"D\")\n",
    "elif (avg>50):\n",
    "    print(\"E\")\n",
    "else:\n",
    "    print(\"F\")"
   ]
  },
  {
   "cell_type": "code",
   "execution_count": 8,
   "metadata": {
    "collapsed": false
   },
   "outputs": [
    {
     "name": "stdout",
     "output_type": "stream",
     "text": [
      "Enter number 1: 4\n",
      "Enter number 2: 5\n",
      "('Quotient: ', 0)\n",
      "('Remainder: ', 4)\n"
     ]
    }
   ],
   "source": [
    "#Q3\n",
    "x1 = input(\"Enter number 1: \")\n",
    "x2 = input(\"Enter number 2: \")\n",
    "print(\"Quotient: \",x1/x2)\n",
    "print(\"Remainder: \",x1%x2)"
   ]
  },
  {
   "cell_type": "code",
   "execution_count": 12,
   "metadata": {
    "collapsed": false
   },
   "outputs": [
    {
     "name": "stdout",
     "output_type": "stream",
     "text": [
      "1\n",
      "5\n",
      "7\n",
      "11\n",
      "13\n",
      "17\n",
      "19\n",
      "23\n",
      "25\n",
      "29\n",
      "31\n",
      "35\n",
      "37\n",
      "41\n",
      "43\n",
      "47\n",
      "49\n"
     ]
    }
   ],
   "source": [
    "#Q4\n",
    "for i in range(51):\n",
    "    if (i%2!=0 and i%3!=0):\n",
    "        print(i)"
   ]
  },
  {
   "cell_type": "code",
   "execution_count": 13,
   "metadata": {
    "collapsed": false
   },
   "outputs": [
    {
     "name": "stdout",
     "output_type": "stream",
     "text": [
      "Enter number 1: 4\n",
      "Enter number 2: 5\n",
      "('Number 1: ', 5)\n",
      "('Number 2: ', 4)\n"
     ]
    }
   ],
   "source": [
    "#Q5\n",
    "x1 = input(\"Enter number 1: \")\n",
    "x2 = input(\"Enter number 2: \")\n",
    "x1 = x1+x2\n",
    "x2 = x1-x2\n",
    "x1 = x1-x2\n",
    "print(\"Number 1: \",x1)\n",
    "print(\"Number 2: \",x2)"
   ]
  },
  {
   "cell_type": "code",
   "execution_count": 1,
   "metadata": {
    "collapsed": false
   },
   "outputs": [
    {
     "name": "stdout",
     "output_type": "stream",
     "text": [
      "Enter number 1: 1\n",
      "Enter number 2: 2\n",
      "Enter number 3: 3\n",
      "('Sum: ', 3.0)\n",
      "('s-x3', 0.0)\n",
      "('Area: ', 0.0)\n"
     ]
    }
   ],
   "source": [
    "#Q6\n",
    "x1 = input(\"Enter number 1: \")\n",
    "x2 = input(\"Enter number 2: \")\n",
    "x3 = input(\"Enter number 3: \")\n",
    "\n",
    "s = float((x1+x2+x3)/2)\n",
    "print(\"Sum: \", s)\n",
    "print(\"s-x3\", s-x3)\n",
    "area = float((s*(s-x1)*(s-x2)*(s-x3))**(0.5))\n",
    "\n",
    "print(\"Area: \", area)"
   ]
  },
  {
   "cell_type": "code",
   "execution_count": null,
   "metadata": {
    "collapsed": true
   },
   "outputs": [],
   "source": [
    "# Q7\n",
    "n = input(\"No. of items for list: \")\n",
    "l = []\n",
    "e_max = -10000000\n",
    "o_max = -10000001\n",
    "for i in range(n):\n",
    "    x = input(\"Enter item: \")\n",
    "    l.append(x)\n",
    "    if (x%2):\n",
    "        if(x>o_max):\n",
    "            o_max=x\n",
    "    else:\n",
    "        if (x>e_max):\n",
    "            e_max=x\n",
    "print(\"Largest Even: \", e_max)\n",
    "print(\"Largest Odd: \", o_max)"
   ]
  },
  {
   "cell_type": "code",
   "execution_count": 24,
   "metadata": {
    "collapsed": false
   },
   "outputs": [
    {
     "name": "stdout",
     "output_type": "stream",
     "text": [
      "No. of items for list: 4\n",
      "Enter item: 1\n",
      "Enter item: 2\n",
      "Enter item: 3\n",
      "Enter item: 4\n",
      "('Largest Even: ', 4)\n",
      "('Largest Odd: ', 3)\n"
     ]
    }
   ],
   "source": [
    "#Q7 \n",
    "n = input(\"No. of items for list: \")\n",
    "e_list = []\n",
    "o_list = []\n",
    "for i in range(n):\n",
    "    x = input(\"Enter item: \")\n",
    "    l.append(x)\n",
    "    if (x%2):\n",
    "        o_list.append(x)\n",
    "    else:\n",
    "        e_list.append(x)\n",
    "        \n",
    "e_len = len(e_list)\n",
    "o_len = len(o_list)\n",
    "\n",
    "e_list.sort()\n",
    "o_list.sort()\n",
    "\n",
    "print(\"Largest Even: \", e_list[e_len-1])\n",
    "print(\"Largest Odd: \", o_list[o_len-1])"
   ]
  },
  {
   "cell_type": "code",
   "execution_count": 28,
   "metadata": {
    "collapsed": false
   },
   "outputs": [
    {
     "name": "stdout",
     "output_type": "stream",
     "text": [
      "No. of items for list: 4\n",
      "Enter item: 1\n",
      "Enter item: 2\n",
      "Enter item: 3\n",
      "Enter item: 4\n",
      "('Second largest: ', 3)\n"
     ]
    }
   ],
   "source": [
    "#Q8\n",
    "n = input(\"No. of items for list: \")\n",
    "l = []\n",
    "for i in range(n):\n",
    "    x = input(\"Enter item: \")\n",
    "    l.append(x)\n",
    "    \n",
    "l.sort()\n",
    "\n",
    "print(\"Second largest: \",l[n-2])"
   ]
  },
  {
   "cell_type": "code",
   "execution_count": 7,
   "metadata": {
    "collapsed": false
   },
   "outputs": [
    {
     "name": "stdout",
     "output_type": "stream",
     "text": [
      "No. of items for list 1: 3\n",
      "Enter items for list 1: 1\n",
      "Enter items for list 1: 2\n",
      "Enter items for list 1: 3\n",
      "No. of items for list 2: 3\n",
      "Enter items for list 2: 4\n",
      "Enter items for list 2: 5\n",
      "Enter items for list 2: 6\n",
      "List 1 union List 2: \n",
      "[1, 2, 3, 4, 5, 6]\n",
      "List 2 union List 1: \n",
      "[4, 5, 6, 1, 2, 3]\n"
     ]
    }
   ],
   "source": [
    "#Q9\n",
    "def union_lists(l1,l2):\n",
    "#    union_list = l1 (Shallow Copy)\n",
    "    union_list = []\n",
    "    for i in range(len(l1)):\n",
    "        union_list.append(l1[i])\n",
    "        \n",
    "    len_list = len(l2)\n",
    "    for i in range(len_list):\n",
    "        union_list.append(l2[i])\n",
    "    print(union_list)\n",
    "    \n",
    "l1 = []\n",
    "n1 = input(\"No. of items for list 1: \")\n",
    "for i in range(n1):\n",
    "    x = input(\"Enter items for list 1: \")\n",
    "    l1.append(x)\n",
    "    \n",
    "l2 = []\n",
    "n2 = input(\"No. of items for list 2: \")\n",
    "for i in range(n2):\n",
    "    x = input(\"Enter items for list 2: \")\n",
    "    l2.append(x)\n",
    "    \n",
    "print(\"List 1 union List 2: \")\n",
    "union_lists(l1,l2)\n",
    "print(\"List 2 union List 1: \")\n",
    "union_lists(l2,l1)\n"
   ]
  }
 ],
 "metadata": {
  "anaconda-cloud": {},
  "kernelspec": {
   "display_name": "Python [default]",
   "language": "python",
   "name": "python2"
  },
  "language_info": {
   "codemirror_mode": {
    "name": "ipython",
    "version": 2
   },
   "file_extension": ".py",
   "mimetype": "text/x-python",
   "name": "python",
   "nbconvert_exporter": "python",
   "pygments_lexer": "ipython2",
   "version": "2.7.13"
  }
 },
 "nbformat": 4,
 "nbformat_minor": 1
}
